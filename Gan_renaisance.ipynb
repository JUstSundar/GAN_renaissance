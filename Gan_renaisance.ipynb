{
 "cells": [
  {
   "cell_type": "code",
   "execution_count": 1,
   "id": "fdb2bec6",
   "metadata": {
    "_cell_guid": "b1076dfc-b9ad-4769-8c92-a6c4dae69d19",
    "_uuid": "8f2839f25d086af736a60e9eeb907d3b93b6e0e5",
    "execution": {
     "iopub.execute_input": "2024-08-15T12:44:35.679459Z",
     "iopub.status.busy": "2024-08-15T12:44:35.679087Z",
     "iopub.status.idle": "2024-08-15T12:44:35.683576Z",
     "shell.execute_reply": "2024-08-15T12:44:35.682847Z"
    },
    "papermill": {
     "duration": 0.01291,
     "end_time": "2024-08-15T12:44:35.685443",
     "exception": false,
     "start_time": "2024-08-15T12:44:35.672533",
     "status": "completed"
    },
    "tags": []
   },
   "outputs": [],
   "source": [
    "#Spider onsite"
   ]
  },
  {
   "cell_type": "code",
   "execution_count": 2,
   "id": "8f328a20",
   "metadata": {
    "execution": {
     "iopub.execute_input": "2024-08-15T12:44:35.696690Z",
     "iopub.status.busy": "2024-08-15T12:44:35.696017Z",
     "iopub.status.idle": "2024-08-15T12:44:52.950684Z",
     "shell.execute_reply": "2024-08-15T12:44:52.949915Z"
    },
    "papermill": {
     "duration": 17.262517,
     "end_time": "2024-08-15T12:44:52.952985",
     "exception": false,
     "start_time": "2024-08-15T12:44:35.690468",
     "status": "completed"
    },
    "tags": []
   },
   "outputs": [
    {
     "name": "stderr",
     "output_type": "stream",
     "text": [
      "2024-08-15 12:44:43.660621: E external/local_xla/xla/stream_executor/cuda/cuda_dnn.cc:9261] Unable to register cuDNN factory: Attempting to register factory for plugin cuDNN when one has already been registered\n",
      "2024-08-15 12:44:43.660727: E external/local_xla/xla/stream_executor/cuda/cuda_fft.cc:607] Unable to register cuFFT factory: Attempting to register factory for plugin cuFFT when one has already been registered\n",
      "2024-08-15 12:44:43.787602: E external/local_xla/xla/stream_executor/cuda/cuda_blas.cc:1515] Unable to register cuBLAS factory: Attempting to register factory for plugin cuBLAS when one has already been registered\n"
     ]
    }
   ],
   "source": [
    "#importing all required model\n",
    "import numpy as np\n",
    "import pandas as pd\n",
    "import torch\n",
    "from torch.utils.data import DataLoader, Dataset\n",
    "import torchvision\n",
    "from torchvision import datasets, transforms\n",
    "import torch.nn as nn\n",
    "import torch.optim as optim\n",
    "from torch.utils.tensorboard import SummaryWriter\n",
    "from tqdm import tqdm\n",
    "import os\n",
    "from PIL import Image\n",
    "from matplotlib import pyplot as plt\n",
    "\n"
   ]
  },
  {
   "cell_type": "code",
   "execution_count": 3,
   "id": "f3a0e028",
   "metadata": {
    "execution": {
     "iopub.execute_input": "2024-08-15T12:44:52.964550Z",
     "iopub.status.busy": "2024-08-15T12:44:52.964005Z",
     "iopub.status.idle": "2024-08-15T12:44:53.358060Z",
     "shell.execute_reply": "2024-08-15T12:44:53.356799Z"
    },
    "papermill": {
     "duration": 0.402292,
     "end_time": "2024-08-15T12:44:53.360382",
     "exception": false,
     "start_time": "2024-08-15T12:44:52.958090",
     "status": "completed"
    },
    "tags": []
   },
   "outputs": [
    {
     "name": "stdout",
     "output_type": "stream",
     "text": [
      "                                            filename         artist  \\\n",
      "0  Abstract_Expressionism/aaron-siskind_acolman-1...  aaron siskind   \n",
      "1  Abstract_Expressionism/aaron-siskind_chicago-6...  aaron siskind   \n",
      "2  Abstract_Expressionism/aaron-siskind_glouceste...  aaron siskind   \n",
      "3  Abstract_Expressionism/aaron-siskind_jerome-ar...  aaron siskind   \n",
      "4  Abstract_Expressionism/aaron-siskind_kentucky-...  aaron siskind   \n",
      "\n",
      "                        genre          description             phash  width  \\\n",
      "0  ['Abstract Expressionism']       acolman-1-1955  bebbeb018a7d80a8   1922   \n",
      "1  ['Abstract Expressionism']       chicago-6-1961  d7d0781be51fc00e   1382   \n",
      "2  ['Abstract Expressionism']  gloucester-16a-1944  9f846e5a6c639325   1382   \n",
      "3  ['Abstract Expressionism']  jerome-arizona-1949  a5d691f85ac5e4d0   1382   \n",
      "4  ['Abstract Expressionism']      kentucky-4-1951  880df359e6b11db1   1382   \n",
      "\n",
      "   height  genre_count subset  \n",
      "0    1382            1  train  \n",
      "1    1746            1  train  \n",
      "2    1857            1  train  \n",
      "3    1849            1  train  \n",
      "4    1625            1  train  \n",
      "80042\n"
     ]
    }
   ],
   "source": [
    "classes = pd.read_csv('/kaggle/input/wikiart/classes.csv')\n",
    "print(classes.head())\n",
    "length = len(classes)\n",
    "print(length)"
   ]
  },
  {
   "cell_type": "code",
   "execution_count": 4,
   "id": "318a1950",
   "metadata": {
    "execution": {
     "iopub.execute_input": "2024-08-15T12:44:53.372128Z",
     "iopub.status.busy": "2024-08-15T12:44:53.371451Z",
     "iopub.status.idle": "2024-08-15T12:44:53.547011Z",
     "shell.execute_reply": "2024-08-15T12:44:53.546092Z"
    },
    "papermill": {
     "duration": 0.183608,
     "end_time": "2024-08-15T12:44:53.549131",
     "exception": false,
     "start_time": "2024-08-15T12:44:53.365523",
     "status": "completed"
    },
    "tags": []
   },
   "outputs": [
    {
     "data": {
      "text/html": [
       "<div>\n",
       "<style scoped>\n",
       "    .dataframe tbody tr th:only-of-type {\n",
       "        vertical-align: middle;\n",
       "    }\n",
       "\n",
       "    .dataframe tbody tr th {\n",
       "        vertical-align: top;\n",
       "    }\n",
       "\n",
       "    .dataframe thead th {\n",
       "        text-align: right;\n",
       "    }\n",
       "</style>\n",
       "<table border=\"1\" class=\"dataframe\">\n",
       "  <thead>\n",
       "    <tr style=\"text-align: right;\">\n",
       "      <th></th>\n",
       "      <th>file</th>\n",
       "      <th>artist</th>\n",
       "      <th>genre</th>\n",
       "      <th>style</th>\n",
       "    </tr>\n",
       "  </thead>\n",
       "  <tbody>\n",
       "    <tr>\n",
       "      <th>0</th>\n",
       "      <td>Realism/vincent-van-gogh_pine-trees-in-the-fen...</td>\n",
       "      <td>22</td>\n",
       "      <td>133</td>\n",
       "      <td>161</td>\n",
       "    </tr>\n",
       "    <tr>\n",
       "      <th>1</th>\n",
       "      <td>Baroque/rembrandt_the-angel-appearing-to-the-s...</td>\n",
       "      <td>20</td>\n",
       "      <td>136</td>\n",
       "      <td>144</td>\n",
       "    </tr>\n",
       "    <tr>\n",
       "      <th>2</th>\n",
       "      <td>Post_Impressionism/paul-cezanne_portrait-of-th...</td>\n",
       "      <td>16</td>\n",
       "      <td>135</td>\n",
       "      <td>160</td>\n",
       "    </tr>\n",
       "    <tr>\n",
       "      <th>3</th>\n",
       "      <td>Impressionism/pierre-auguste-renoir_young-girl...</td>\n",
       "      <td>17</td>\n",
       "      <td>131</td>\n",
       "      <td>152</td>\n",
       "    </tr>\n",
       "    <tr>\n",
       "      <th>4</th>\n",
       "      <td>Romanticism/ivan-aivazovsky_morning-1851.jpg</td>\n",
       "      <td>9</td>\n",
       "      <td>139</td>\n",
       "      <td>163</td>\n",
       "    </tr>\n",
       "  </tbody>\n",
       "</table>\n",
       "</div>"
      ],
      "text/plain": [
       "                                                file  artist  genre  style\n",
       "0  Realism/vincent-van-gogh_pine-trees-in-the-fen...      22    133    161\n",
       "1  Baroque/rembrandt_the-angel-appearing-to-the-s...      20    136    144\n",
       "2  Post_Impressionism/paul-cezanne_portrait-of-th...      16    135    160\n",
       "3  Impressionism/pierre-auguste-renoir_young-girl...      17    131    152\n",
       "4       Romanticism/ivan-aivazovsky_morning-1851.jpg       9    139    163"
      ]
     },
     "execution_count": 4,
     "metadata": {},
     "output_type": "execute_result"
    }
   ],
   "source": [
    "wclasses = pd.read_csv('/kaggle/input/wikiart/wclasses.csv')\n",
    "wclasses.head()"
   ]
  },
  {
   "cell_type": "code",
   "execution_count": 5,
   "id": "58e54492",
   "metadata": {
    "execution": {
     "iopub.execute_input": "2024-08-15T12:44:53.562489Z",
     "iopub.status.busy": "2024-08-15T12:44:53.561562Z",
     "iopub.status.idle": "2024-08-15T12:45:33.009823Z",
     "shell.execute_reply": "2024-08-15T12:45:33.008866Z"
    },
    "papermill": {
     "duration": 39.477716,
     "end_time": "2024-08-15T12:45:33.032596",
     "exception": false,
     "start_time": "2024-08-15T12:44:53.554880",
     "status": "completed"
    },
    "tags": []
   },
   "outputs": [
    {
     "name": "stderr",
     "output_type": "stream",
     "text": [
      "Processing files: 100%|██████████| 1391/1391 [00:23<00:00, 59.27it/s]\n"
     ]
    },
    {
     "name": "stdout",
     "output_type": "stream",
     "text": [
      "All file contents saved to /kaggle/working/all_file_contents.csv\n"
     ]
    }
   ],
   "source": [
    "import os\n",
    "import pandas as pd\n",
    "from tqdm import tqdm\n",
    "import csv\n",
    "\n",
    "data = []\n",
    "root_directory = '/kaggle/input/wikiart/Early_Renaissance'\n",
    "\n",
    "for dirpath, dirnames, filenames in os.walk(root_directory):\n",
    "    for file_name in tqdm(filenames, desc=\"Processing files\"):\n",
    "        file_path = os.path.join(dirpath, file_name)\n",
    "        try:\n",
    "            with open(file_path, 'r', encoding='utf-8', errors='ignore') as file:\n",
    "                content = file.read()\n",
    "            data.append([file_path, content])\n",
    "        except UnicodeDecodeError as e:\n",
    "            print(f\"Unicode error for file {file_path}: {e}\")\n",
    "            continue  \n",
    "\n",
    "df = pd.DataFrame(data, columns=['File Path', 'Content'])\n",
    "\n",
    "output_csv = '/kaggle/working/all_file_contents.csv'\n",
    "df.to_csv(output_csv, index=False, escapechar='\\\\', quoting=csv.QUOTE_MINIMAL)\n",
    "\n",
    "print(f'All file contents saved to {output_csv}')\n"
   ]
  },
  {
   "cell_type": "code",
   "execution_count": 6,
   "id": "b0ae770a",
   "metadata": {
    "execution": {
     "iopub.execute_input": "2024-08-15T12:45:33.075638Z",
     "iopub.status.busy": "2024-08-15T12:45:33.075201Z",
     "iopub.status.idle": "2024-08-15T12:45:33.104017Z",
     "shell.execute_reply": "2024-08-15T12:45:33.103177Z"
    },
    "papermill": {
     "duration": 0.052342,
     "end_time": "2024-08-15T12:45:33.105829",
     "exception": false,
     "start_time": "2024-08-15T12:45:33.053487",
     "status": "completed"
    },
    "tags": []
   },
   "outputs": [
    {
     "data": {
      "text/html": [
       "<div>\n",
       "<style scoped>\n",
       "    .dataframe tbody tr th:only-of-type {\n",
       "        vertical-align: middle;\n",
       "    }\n",
       "\n",
       "    .dataframe tbody tr th {\n",
       "        vertical-align: top;\n",
       "    }\n",
       "\n",
       "    .dataframe thead th {\n",
       "        text-align: right;\n",
       "    }\n",
       "</style>\n",
       "<table border=\"1\" class=\"dataframe\">\n",
       "  <thead>\n",
       "    <tr style=\"text-align: right;\">\n",
       "      <th></th>\n",
       "      <th>File Path</th>\n",
       "      <th>Content</th>\n",
       "    </tr>\n",
       "  </thead>\n",
       "  <tbody>\n",
       "    <tr>\n",
       "      <th>0</th>\n",
       "      <td>/kaggle/input/wikiart/Early_Renaissance/domeni...</td>\n",
       "      <td>\u0000\u0010JFIF\u0000\u0001\u0001\u0000\u0000\u0001\u0000\u0001\u0000\u0000\u0000C\u0000\b\u0006\u0006\u0007\u0006\u0005\b\u0007\u0007\u0007\\t\\t\b\\n\f",
       "\u0014\\n\f",
       "\u000b",
       "\u000b",
       "\f",
       "\u0019\u0012...</td>\n",
       "    </tr>\n",
       "    <tr>\n",
       "      <th>1</th>\n",
       "      <td>/kaggle/input/wikiart/Early_Renaissance/fra-an...</td>\n",
       "      <td>\u0000\u0010JFIF\u0000\u0001\u0001\u0000\u0000\u0001\u0000\u0001\u0000\u0000\u0000C\u0000\b\u0006\u0006\u0007\u0006\u0005\b\u0007\u0007\u0007\\t\\t\b\\n\f",
       "\u0014\\n\f",
       "\u000b",
       "\u000b",
       "\f",
       "\u0019\u0012...</td>\n",
       "    </tr>\n",
       "    <tr>\n",
       "      <th>2</th>\n",
       "      <td>/kaggle/input/wikiart/Early_Renaissance/benozz...</td>\n",
       "      <td>\u0000\u0010JFIF\u0000\u0001\u0001\u0000\u0000\u0001\u0000\u0001\u0000\u0000\u0000C\u0000\b\u0006\u0006\u0007\u0006\u0005\b\u0007\u0007\u0007\\t\\t\b\\n\f",
       "\u0014\\n\f",
       "\u000b",
       "\u000b",
       "\f",
       "\u0019\u0012...</td>\n",
       "    </tr>\n",
       "    <tr>\n",
       "      <th>3</th>\n",
       "      <td>/kaggle/input/wikiart/Early_Renaissance/carlo-...</td>\n",
       "      <td>\u0000\u0010JFIF\u0000\u0001\u0001\u0000\u0000\u0001\u0000\u0001\u0000\u0000\u0000C\u0000\b\u0006\u0006\u0007\u0006\u0005\b\u0007\u0007\u0007\\t\\t\b\\n\f",
       "\u0014\\n\f",
       "\u000b",
       "\u000b",
       "\f",
       "\u0019\u0012...</td>\n",
       "    </tr>\n",
       "    <tr>\n",
       "      <th>4</th>\n",
       "      <td>/kaggle/input/wikiart/Early_Renaissance/pietro...</td>\n",
       "      <td>\u0000\u0010JFIF\u0000\u0001\u0001\u0000\u0000\u0001\u0000\u0001\u0000\u0000\u0000C\u0000\b\u0006\u0006\u0007\u0006\u0005\b\u0007\u0007\u0007\\t\\t\b\\n\f",
       "\u0014\\n\f",
       "\u000b",
       "\u000b",
       "\f",
       "\u0019\u0012...</td>\n",
       "    </tr>\n",
       "  </tbody>\n",
       "</table>\n",
       "</div>"
      ],
      "text/plain": [
       "                                           File Path  \\\n",
       "0  /kaggle/input/wikiart/Early_Renaissance/domeni...   \n",
       "1  /kaggle/input/wikiart/Early_Renaissance/fra-an...   \n",
       "2  /kaggle/input/wikiart/Early_Renaissance/benozz...   \n",
       "3  /kaggle/input/wikiart/Early_Renaissance/carlo-...   \n",
       "4  /kaggle/input/wikiart/Early_Renaissance/pietro...   \n",
       "\n",
       "                                             Content  \n",
       "0  \u0000\u0010JFIF\u0000\u0001\u0001\u0000\u0000\u0001\u0000\u0001\u0000\u0000\u0000C\u0000\b\u0006\u0006\u0007\u0006\u0005\b\u0007\u0007\u0007\\t\\t\b\\n\n",
       "\u0014\\n\n",
       "\n",
       "\n",
       "\n",
       "\u0019\u0012...  \n",
       "1  \u0000\u0010JFIF\u0000\u0001\u0001\u0000\u0000\u0001\u0000\u0001\u0000\u0000\u0000C\u0000\b\u0006\u0006\u0007\u0006\u0005\b\u0007\u0007\u0007\\t\\t\b\\n\n",
       "\u0014\\n\n",
       "\n",
       "\n",
       "\n",
       "\u0019\u0012...  \n",
       "2  \u0000\u0010JFIF\u0000\u0001\u0001\u0000\u0000\u0001\u0000\u0001\u0000\u0000\u0000C\u0000\b\u0006\u0006\u0007\u0006\u0005\b\u0007\u0007\u0007\\t\\t\b\\n\n",
       "\u0014\\n\n",
       "\n",
       "\n",
       "\n",
       "\u0019\u0012...  \n",
       "3  \u0000\u0010JFIF\u0000\u0001\u0001\u0000\u0000\u0001\u0000\u0001\u0000\u0000\u0000C\u0000\b\u0006\u0006\u0007\u0006\u0005\b\u0007\u0007\u0007\\t\\t\b\\n\n",
       "\u0014\\n\n",
       "\n",
       "\n",
       "\n",
       "\u0019\u0012...  \n",
       "4  \u0000\u0010JFIF\u0000\u0001\u0001\u0000\u0000\u0001\u0000\u0001\u0000\u0000\u0000C\u0000\b\u0006\u0006\u0007\u0006\u0005\b\u0007\u0007\u0007\\t\\t\b\\n\n",
       "\u0014\\n\n",
       "\n",
       "\n",
       "\n",
       "\u0019\u0012...  "
      ]
     },
     "execution_count": 6,
     "metadata": {},
     "output_type": "execute_result"
    }
   ],
   "source": [
    "df.head()"
   ]
  },
  {
   "cell_type": "code",
   "execution_count": 7,
   "id": "8e2bc133",
   "metadata": {
    "execution": {
     "iopub.execute_input": "2024-08-15T12:45:33.150047Z",
     "iopub.status.busy": "2024-08-15T12:45:33.149758Z",
     "iopub.status.idle": "2024-08-15T12:45:33.161073Z",
     "shell.execute_reply": "2024-08-15T12:45:33.160385Z"
    },
    "papermill": {
     "duration": 0.035213,
     "end_time": "2024-08-15T12:45:33.162996",
     "exception": false,
     "start_time": "2024-08-15T12:45:33.127783",
     "status": "completed"
    },
    "tags": []
   },
   "outputs": [],
   "source": [
    "class ImageDataset(Dataset):\n",
    "    def __init__(self, image_dir, transform=None):\n",
    "        self.image_dir = image_dir\n",
    "        self.image_filenames = [f for f in os.listdir(image_dir) if f.endswith(('jpg', 'png', 'jpeg'))]\n",
    "        self.transform = transform\n",
    "\n",
    "    def __len__(self):\n",
    "        return len(self.image_filenames)\n",
    "\n",
    "    def __getitem__(self, idx):\n",
    "        img_path = os.path.join(self.image_dir, self.image_filenames[idx])\n",
    "        image = Image.open(img_path).convert(\"RGB\")\n",
    "        if self.transform:\n",
    "            image = self.transform(image)\n",
    "        return image\n",
    "\n",
    "image_dir = '/kaggle/input/wikiart/Early_Renaissance'\n",
    "\n",
    "# Define transformations: resize, convert to tensor, normalize\n",
    "transform = transforms.Compose([\n",
    "    transforms.Resize((64, 64)),  # Resize images to 64x64\n",
    "    transforms.ToTensor(),  # Convert images to PyTorch tensors\n",
    "    transforms.Normalize((0.5, 0.5, 0.5), (0.5, 0.5, 0.5))  # Normalize to [-1, 1] range\n",
    "])\n",
    "\n",
    "# Create the dataset and dataloader\n",
    "dataset = ImageDataset(image_dir=image_dir, transform=transform)\n",
    "dataloader = DataLoader(dataset, batch_size=32, shuffle=True)\n",
    "\n",
    "\n"
   ]
  },
  {
   "cell_type": "code",
   "execution_count": 8,
   "id": "924b5bd4",
   "metadata": {
    "execution": {
     "iopub.execute_input": "2024-08-15T12:45:33.207793Z",
     "iopub.status.busy": "2024-08-15T12:45:33.207497Z",
     "iopub.status.idle": "2024-08-15T12:45:33.213893Z",
     "shell.execute_reply": "2024-08-15T12:45:33.213190Z"
    },
    "papermill": {
     "duration": 0.031702,
     "end_time": "2024-08-15T12:45:33.215764",
     "exception": false,
     "start_time": "2024-08-15T12:45:33.184062",
     "status": "completed"
    },
    "tags": []
   },
   "outputs": [
    {
     "data": {
      "text/plain": [
       "44"
      ]
     },
     "execution_count": 8,
     "metadata": {},
     "output_type": "execute_result"
    }
   ],
   "source": [
    "len(dataloader)\n",
    "#44*32 == 1408"
   ]
  },
  {
   "cell_type": "code",
   "execution_count": 9,
   "id": "fb8310c1",
   "metadata": {
    "execution": {
     "iopub.execute_input": "2024-08-15T12:45:33.259946Z",
     "iopub.status.busy": "2024-08-15T12:45:33.259318Z",
     "iopub.status.idle": "2024-08-15T12:45:34.421438Z",
     "shell.execute_reply": "2024-08-15T12:45:34.420519Z"
    },
    "papermill": {
     "duration": 1.186101,
     "end_time": "2024-08-15T12:45:34.423404",
     "exception": false,
     "start_time": "2024-08-15T12:45:33.237303",
     "status": "completed"
    },
    "tags": []
   },
   "outputs": [
    {
     "data": {
      "text/plain": [
       "tensor([[[-0.3569, -0.3804, -0.3333,  ..., -0.2549, -0.2392, -0.2392],\n",
       "         [-0.3176, -0.3490, -0.3490,  ..., -0.3098, -0.2863, -0.3020],\n",
       "         [-0.3569, -0.3804, -0.4353,  ..., -0.2471, -0.2549, -0.3255],\n",
       "         ...,\n",
       "         [-0.4353, -0.4353, -0.4353,  ..., -0.5843, -0.6078, -0.5373],\n",
       "         [-0.4824, -0.4902, -0.4745,  ..., -0.4745, -0.5294, -0.4745],\n",
       "         [-0.4824, -0.4745, -0.3647,  ..., -0.2235, -0.2235, -0.3255]],\n",
       "\n",
       "        [[-0.4588, -0.4745, -0.4510,  ..., -0.4510, -0.4431, -0.4431],\n",
       "         [-0.4431, -0.4510, -0.4588,  ..., -0.4980, -0.4745, -0.4824],\n",
       "         [-0.4824, -0.5059, -0.5373,  ..., -0.4510, -0.4510, -0.4902],\n",
       "         ...,\n",
       "         [-0.5451, -0.5765, -0.5686,  ..., -0.6392, -0.6471, -0.6157],\n",
       "         [-0.5529, -0.5686, -0.5451,  ..., -0.5843, -0.6000, -0.5686],\n",
       "         [-0.5294, -0.4902, -0.4353,  ..., -0.3490, -0.3804, -0.4118]],\n",
       "\n",
       "        [[-0.5529, -0.5529, -0.5373,  ..., -0.5529, -0.5451, -0.5373],\n",
       "         [-0.5373, -0.5451, -0.5529,  ..., -0.5843, -0.5843, -0.5686],\n",
       "         [-0.5765, -0.5922, -0.6078,  ..., -0.5608, -0.5529, -0.5686],\n",
       "         ...,\n",
       "         [-0.6392, -0.6706, -0.6549,  ..., -0.7255, -0.7255, -0.6863],\n",
       "         [-0.6392, -0.6314, -0.6235,  ..., -0.6863, -0.6941, -0.6627],\n",
       "         [-0.5843, -0.5451, -0.5216,  ..., -0.5059, -0.5059, -0.5216]]])"
      ]
     },
     "execution_count": 9,
     "metadata": {},
     "output_type": "execute_result"
    }
   ],
   "source": [
    "image, *_ = next(iter(dataloader))\n",
    "image"
   ]
  },
  {
   "cell_type": "code",
   "execution_count": 10,
   "id": "77e2c6db",
   "metadata": {
    "execution": {
     "iopub.execute_input": "2024-08-15T12:45:34.467187Z",
     "iopub.status.busy": "2024-08-15T12:45:34.466890Z",
     "iopub.status.idle": "2024-08-15T12:45:34.472563Z",
     "shell.execute_reply": "2024-08-15T12:45:34.471787Z"
    },
    "papermill": {
     "duration": 0.029584,
     "end_time": "2024-08-15T12:45:34.474372",
     "exception": false,
     "start_time": "2024-08-15T12:45:34.444788",
     "status": "completed"
    },
    "tags": []
   },
   "outputs": [],
   "source": [
    "def weights_init(m):\n",
    "    \"\"\"\n",
    "    Takes as input a neural network m that will initialize all its weights.\n",
    "    \"\"\"\n",
    "    classname = m.__class__.__name__\n",
    "    if classname.find('Conv') != -1:\n",
    "        m.weight.data.normal_(0.0, 0.02)\n",
    "    elif classname.find('BatchNorm') != -1:\n",
    "        m.weight.data.normal_(1.0, 0.02)\n",
    "        m.bias.data.fill_(0)"
   ]
  },
  {
   "cell_type": "code",
   "execution_count": 11,
   "id": "f4b85caa",
   "metadata": {
    "execution": {
     "iopub.execute_input": "2024-08-15T12:45:34.517957Z",
     "iopub.status.busy": "2024-08-15T12:45:34.517437Z",
     "iopub.status.idle": "2024-08-15T12:45:34.561214Z",
     "shell.execute_reply": "2024-08-15T12:45:34.560394Z"
    },
    "papermill": {
     "duration": 0.067507,
     "end_time": "2024-08-15T12:45:34.563069",
     "exception": false,
     "start_time": "2024-08-15T12:45:34.495562",
     "status": "completed"
    },
    "tags": []
   },
   "outputs": [],
   "source": [
    "import torch\n",
    "import torch.nn as nn\n",
    "\n",
    "class Generator(nn.Module):\n",
    "    def __init__(self):\n",
    "        super(Generator, self).__init__()\n",
    "        self.main = nn.Sequential(\n",
    "            nn.ConvTranspose2d(100, 512, 4, 1, 0, bias=False),  # Output: (512, 4, 4)\n",
    "            nn.BatchNorm2d(512),\n",
    "            nn.ReLU(True),\n",
    "            nn.ConvTranspose2d(512, 256, 4, 2, 1, bias=False),  # Output: (256, 8, 8)\n",
    "            nn.BatchNorm2d(256),\n",
    "            nn.ReLU(True),\n",
    "            nn.ConvTranspose2d(256, 128, 4, 2, 1, bias=False),  # Output: (128, 16, 16)\n",
    "            nn.BatchNorm2d(128),\n",
    "            nn.ReLU(True),\n",
    "            nn.ConvTranspose2d(128, 64, 4, 2, 1, bias=False),   # Output: (64, 32, 32)\n",
    "            nn.BatchNorm2d(64),\n",
    "            nn.ReLU(True),\n",
    "            nn.ConvTranspose2d(64, 3, 4, 2, 1, bias=False),     # Output: (3, 64, 64)\n",
    "            nn.Tanh()\n",
    "        )\n",
    "        \n",
    "    def forward(self, input):\n",
    "        return self.main(input)\n",
    "\n",
    "# Initialize the Generator\n",
    "gen = Generator()\n",
    "\n",
    "\n",
    "\n"
   ]
  },
  {
   "cell_type": "code",
   "execution_count": 12,
   "id": "2a8c771c",
   "metadata": {
    "execution": {
     "iopub.execute_input": "2024-08-15T12:45:34.606586Z",
     "iopub.status.busy": "2024-08-15T12:45:34.606088Z",
     "iopub.status.idle": "2024-08-15T12:45:34.636578Z",
     "shell.execute_reply": "2024-08-15T12:45:34.635770Z"
    },
    "papermill": {
     "duration": 0.054376,
     "end_time": "2024-08-15T12:45:34.638529",
     "exception": false,
     "start_time": "2024-08-15T12:45:34.584153",
     "status": "completed"
    },
    "tags": []
   },
   "outputs": [],
   "source": [
    "import torch\n",
    "import torch.nn as nn\n",
    "\n",
    "class Discriminator(nn.Module):\n",
    "    def __init__(self):\n",
    "        super(Discriminator, self).__init__()\n",
    "        self.main = nn.Sequential(\n",
    "            nn.Conv2d(3, 64, 4, 2, 1, bias=False),  # Output: (64, 32, 32)\n",
    "            nn.LeakyReLU(0.2, inplace=True),\n",
    "            nn.Conv2d(64, 128, 4, 2, 1, bias=False),  # Output: (128, 16, 16)\n",
    "            nn.BatchNorm2d(128),\n",
    "            nn.LeakyReLU(0.2, inplace=True),\n",
    "            nn.Conv2d(128, 256, 4, 2, 1, bias=False),  # Output: (256, 8, 8)\n",
    "            nn.BatchNorm2d(256),\n",
    "            nn.LeakyReLU(0.2, inplace=True),\n",
    "            nn.Conv2d(256, 512, 4, 2, 1, bias=False),  # Output: (512, 4, 4)\n",
    "            nn.BatchNorm2d(512),\n",
    "            nn.LeakyReLU(0.2, inplace=True),\n",
    "            nn.Conv2d(512, 1, 4, 1, 0, bias=False),  # Output: (1, 1, 1)\n",
    "            nn.Sigmoid()\n",
    "        )\n",
    "        \n",
    "    def forward(self, input):\n",
    "        output = self.main(input)\n",
    "        return output.view(-1, 1)  # Ensure the output shape is (batch_size, 1)\n",
    "\n",
    "# Initialize the Discriminator\n",
    "dis = Discriminator()\n",
    "\n",
    "\n"
   ]
  },
  {
   "cell_type": "code",
   "execution_count": 13,
   "id": "95f40fd5",
   "metadata": {
    "execution": {
     "iopub.execute_input": "2024-08-15T12:45:34.682437Z",
     "iopub.status.busy": "2024-08-15T12:45:34.681770Z",
     "iopub.status.idle": "2024-08-15T12:47:40.022147Z",
     "shell.execute_reply": "2024-08-15T12:47:40.021291Z"
    },
    "papermill": {
     "duration": 125.365104,
     "end_time": "2024-08-15T12:47:40.024641",
     "exception": false,
     "start_time": "2024-08-15T12:45:34.659537",
     "status": "completed"
    },
    "tags": []
   },
   "outputs": [
    {
     "name": "stdout",
     "output_type": "stream",
     "text": [
      "Epoch [1/3], Step [0/44], D Loss: 1.3779, G Loss: 11.8772\n",
      "Epoch [2/3], Step [0/44], D Loss: 1.1436, G Loss: 1.7159\n",
      "Epoch [3/3], Step [0/44], D Loss: 0.7986, G Loss: 3.2331\n"
     ]
    }
   ],
   "source": [
    "EPOCH = 3\n",
    "LR = 0.001\n",
    "criterion = nn.BCELoss()\n",
    "optimizerD = optim.Adam(dis.parameters(), lr=LR, betas=(0.5, 0.999))\n",
    "optimizerG = optim.Adam(gen.parameters(), lr=LR, betas=(0.5, 0.999))\n",
    "\n",
    "device = torch.device('cuda' if torch.cuda.is_available() else 'cpu')\n",
    "gen = gen.to(device)\n",
    "dis = dis.to(device)\n",
    "\n",
    "loss_G_list = []\n",
    "loss_D_list = []\n",
    "\n",
    "# Training loop\n",
    "for epoch in range(EPOCH):\n",
    "    for i, real_images in enumerate(dataloader):\n",
    "        \n",
    "        \n",
    "        real_images = real_images.to(device)\n",
    "\n",
    "        \n",
    "        real_labels = torch.ones(real_images.size(0), 1).to(device)\n",
    "        fake_labels = torch.zeros(real_images.size(0), 1).to(device)\n",
    "\n",
    "        \n",
    "        dis.zero_grad()\n",
    "\n",
    "        # Real images\n",
    "        outputs = dis(real_images)\n",
    "        loss_real = criterion(outputs, real_labels)\n",
    "        loss_real.backward()\n",
    "\n",
    "        # Fake images\n",
    "        noise = torch.randn(real_images.size(0), 100, 1, 1).to(device)\n",
    "        fake_images = gen(noise)\n",
    "        outputs = dis(fake_images.detach())\n",
    "        loss_fake = criterion(outputs, fake_labels)\n",
    "        loss_fake.backward()\n",
    "        \n",
    "        optimizerD.step()\n",
    "\n",
    "        \n",
    "        loss_D = loss_real + loss_fake\n",
    "\n",
    "       #generator training\n",
    "        gen.zero_grad()\n",
    "        outputs = dis(fake_images)\n",
    "        loss_G = criterion(outputs, real_labels)  \n",
    "        loss_G.backward()\n",
    "\n",
    "        optimizerG.step()\n",
    "        \n",
    "        \n",
    "        loss_G_list.append(loss_G.item())\n",
    "        loss_D_list.append(loss_D.item())\n",
    "\n",
    "        if i % 100 == 0:\n",
    "            print(f'Epoch [{epoch+1}/{EPOCH}], Step [{i}/{len(dataloader)}], '\n",
    "                  f'D Loss: {loss_D.item():.4f}, G Loss: {loss_G.item():.4f}')\n"
   ]
  },
  {
   "cell_type": "code",
   "execution_count": 14,
   "id": "a524dc06",
   "metadata": {
    "execution": {
     "iopub.execute_input": "2024-08-15T12:47:40.070988Z",
     "iopub.status.busy": "2024-08-15T12:47:40.070008Z",
     "iopub.status.idle": "2024-08-15T12:47:40.415286Z",
     "shell.execute_reply": "2024-08-15T12:47:40.414425Z"
    },
    "papermill": {
     "duration": 0.371043,
     "end_time": "2024-08-15T12:47:40.417979",
     "exception": false,
     "start_time": "2024-08-15T12:47:40.046936",
     "status": "completed"
    },
    "tags": []
   },
   "outputs": [
    {
     "data": {
      "image/png": "[encoded data removed]",
      "text/plain": [
       "<Figure size 1200x500 with 1 Axes>"
      ]
     },
     "metadata": {},
     "output_type": "display_data"
    }
   ],
   "source": [
    "def plot_loss(loss_G, loss_D):\n",
    "    plt.figure(figsize=(12,5))\n",
    "    plt.title(\"Loss vs Epoch\")\n",
    "    plt.plot(loss_G, label=\"G Loss\")\n",
    "    plt.plot(loss_D, label=\"D Loss\")\n",
    "    plt.xlabel(\"Iterations\")\n",
    "    plt.ylabel(\"Loss\")\n",
    "    plt.legend()\n",
    "    plt.show()\n",
    "\n",
    "# Plot the losses\n",
    "plot_loss(loss_G_list, loss_D_list)\n",
    "    \n"
   ]
  },
  {
   "cell_type": "code",
   "execution_count": 15,
   "id": "135699c9",
   "metadata": {
    "execution": {
     "iopub.execute_input": "2024-08-15T12:47:40.468357Z",
     "iopub.status.busy": "2024-08-15T12:47:40.467950Z",
     "iopub.status.idle": "2024-08-15T12:47:40.693118Z",
     "shell.execute_reply": "2024-08-15T12:47:40.691551Z"
    },
    "papermill": {
     "duration": 0.258171,
     "end_time": "2024-08-15T12:47:40.699637",
     "exception": false,
     "start_time": "2024-08-15T12:47:40.441466",
     "status": "completed"
    },
    "tags": []
   },
   "outputs": [
    {
     "data": {
      "image/png": "[encoded data removed]",
      "text/plain": [
       "<Figure size 1500x1500 with 5 Axes>"
      ]
     },
     "metadata": {},
     "output_type": "display_data"
    }
   ],
   "source": [
    "def show_generated_img(n_images=5):\n",
    "    sample = []\n",
    "    \n",
    "    for _ in range(n_images):\n",
    "        \n",
    "        noise = torch.randn(1, 100, 1, 1, device=device)\n",
    "        \n",
    "        \n",
    "        gen_image = gen(noise).to(\"cpu\").clone().detach().squeeze(0)\n",
    "        \n",
    "        \n",
    "        gen_image = gen_image.numpy().transpose(1, 2, 0)  \n",
    "        sample.append(gen_image)\n",
    "    \n",
    "    \n",
    "    figure, axes = plt.subplots(1, len(sample), figsize=(15, 15))  \n",
    "    \n",
    "    \n",
    "    for index, axis in enumerate(axes):\n",
    "        axis.axis('off')  \n",
    "        image_array = sample[index]\n",
    "        axis.imshow(image_array)\n",
    "        \n",
    "    plt.show()\n",
    "    plt.close()\n",
    "    \n",
    "show_generated_img(n_images=5)"
   ]
  }
 ],
 "metadata": {
  "kaggle": {
   "accelerator": "gpu",
   "dataSources": [
    {
     "datasetId": 2477766,
     "sourceId": 4202543,
     "sourceType": "datasetVersion"
    }
   ],
   "dockerImageVersionId": 30747,
   "isGpuEnabled": true,
   "isInternetEnabled": true,
   "language": "python",
   "sourceType": "notebook"
  },
  "kernelspec": {
   "display_name": "Python 3",
   "language": "python",
   "name": "python3"
  },
  "language_info": {
   "codemirror_mode": {
    "name": "ipython",
    "version": 3
   },
   "file_extension": ".py",
   "mimetype": "text/x-python",
   "name": "python",
   "nbconvert_exporter": "python",
   "pygments_lexer": "ipython3",
   "version": "3.10.13"
  },
  "papermill": {
   "default_parameters": {},
   "duration": 191.314542,
   "end_time": "2024-08-15T12:47:44.110274",
   "environment_variables": {},
   "exception": null,
   "input_path": "__notebook__.ipynb",
   "output_path": "__notebook__.ipynb",
   "parameters": {},
   "start_time": "2024-08-15T12:44:32.795732",
   "version": "2.5.0"
  }
 },
 "nbformat": 4,
 "nbformat_minor": 5
}
